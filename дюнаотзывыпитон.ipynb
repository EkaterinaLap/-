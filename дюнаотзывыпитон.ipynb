{
  "nbformat": 4,
  "nbformat_minor": 0,
  "metadata": {
    "colab": {
      "provenance": [],
      "authorship_tag": "ABX9TyNckfMvDlIC4hBNSy6ZR35h",
      "include_colab_link": true
    },
    "kernelspec": {
      "name": "python3",
      "display_name": "Python 3"
    },
    "language_info": {
      "name": "python"
    }
  },
  "cells": [
    {
      "cell_type": "markdown",
      "metadata": {
        "id": "view-in-github",
        "colab_type": "text"
      },
      "source": [
        "<a href=\"https://colab.research.google.com/github/EkaterinaLap/-/blob/main/%D0%B4%D1%8E%D0%BD%D0%B0%D0%BE%D1%82%D0%B7%D1%8B%D0%B2%D1%8B%D0%BF%D0%B8%D1%82%D0%BE%D0%BD.ipynb\" target=\"_parent\"><img src=\"https://colab.research.google.com/assets/colab-badge.svg\" alt=\"Open In Colab\"/></a>"
      ]
    },
    {
      "cell_type": "code",
      "execution_count": null,
      "metadata": {
        "id": "G5Xy0rVa2LNY"
      },
      "outputs": [],
      "source": [
        "import pandas as pd\n",
        "import nltk\n",
        "from nltk.tokenize import word_tokenize\n",
        "from nltk.corpus import stopwords\n",
        "from nltk.stem import WordNetLemmatizer\n",
        "import string\n",
        "import matplotlib.pyplot as plt\n",
        "\n",
        "# Загрузка NLTK ресурсов для русского языка\n",
        "nltk.download('punkt')\n",
        "nltk.download('stopwords')\n",
        "nltk.download('wordnet')\n",
        "\n",
        "# Функция для предобработки текста\n",
        "def preprocess_text(text):\n",
        "    # Токенизация\n",
        "    tokens = word_tokenize(text.lower())\n",
        "\n",
        "    # Удаление пунктуации\n",
        "    tokens = [word for word in tokens if word.isalnum()]\n",
        "\n",
        "    # Удаление стоп-слов\n",
        "    stop_words = set(stopwords.words('russian'))\n",
        "    tokens = [word for word in tokens if word not in stop_words]\n",
        "\n",
        "    # Лемматизация\n",
        "    lemmatizer = WordNetLemmatizer()\n",
        "    tokens = [lemmatizer.lemmatize(word) for word in tokens]\n",
        "\n",
        "    # Приведение к одной строке\n",
        "    return ' '.join(tokens)\n",
        "\n",
        "# Функция для чтения данных из файла\n",
        "def read_reviews_from_txt(filename):\n",
        "    with open(filename, 'r', encoding='utf-8') as file:\n",
        "        reviews = file.readlines()\n",
        "    return [review.strip() for review in reviews]\n",
        "\n",
        "# Путь к файлу с отзывами\n",
        "input_file = 'text.txt'  # Предположим, что данные хранятся в текстовом файле\n",
        "\n",
        "# Чтение отзывов из файла\n",
        "reviews = read_reviews_from_txt(input_file)\n",
        "\n",
        "# Предобработка отзывов\n",
        "preprocessed_reviews = [preprocess_text(review) for review in reviews]\n",
        "\n",
        "# Сохранение предобработанных отзывов в файл\n",
        "output_file = 'preprocessed_reviews.txt'\n",
        "with open(output_file, 'w', encoding='utf-8') as file:\n",
        "    for review in preprocessed_reviews:\n",
        "        file.write(review + '\\n')\n",
        "\n",
        "# Визуализация\n",
        "review_lengths = [len(review.split()) for review in preprocessed_reviews]\n",
        "plt.hist(review_lengths, bins=50, color='skyblue', edgecolor='black')\n",
        "plt.xlabel('Длина отзыва')\n",
        "plt.ylabel('Частота')\n",
        "plt.title('Распределение длин отзывов')\n",
        "plt.show()\n",
        "\n",
        "from wordcloud import WordCloud\n",
        "import matplotlib.pyplot as plt\n",
        "\n",
        "# Сгенерируем облако слов\n",
        "text = \" \".join(preprocessed_reviews)  # Предполагается, что preprocessed_reviews содержит ваш предобработанный текст\n",
        "wordcloud = WordCloud(width=800, height=400, background_color ='white').generate(text)\n",
        "\n",
        "# Отобразим облако слов\n",
        "plt.figure(figsize=(10, 5))\n",
        "plt.imshow(wordcloud, interpolation='bilinear')\n",
        "plt.axis('off')\n",
        "plt.show()\n",
        "\n",
        "import matplotlib.pyplot as plt\n",
        "\n",
        "# Предполагается, что у вас есть данные об оценках пользователей и длине отзывов\n",
        "user_ratings = [4, 3, 5, 2, 4, 5, 3, 4, 2, 1]  # Пример оценок пользователей\n",
        "review_lengths = [20, 50, 30, 40, 25, 60, 35, 45, 55, 10]  # Пример длин отзывов\n",
        "\n",
        "plt.figure(figsize=(8, 6))\n",
        "plt.scatter(review_lengths, user_ratings, color='blue', alpha=0.5)  # Создаем диаграмму рассеяния\n",
        "\n",
        "plt.title('Диаграмма рассеяния: Оценка пользователей vs Длина отзыва')\n",
        "plt.xlabel('Длина отзыва')\n",
        "plt.ylabel('Оценка пользователя')\n",
        "plt.grid(True)\n",
        "plt.show()"
      ]
    }
  ]
}